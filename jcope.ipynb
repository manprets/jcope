{
 "cells": [
  {
   "cell_type": "markdown",
   "metadata": {},
   "source": [
    "Explanatory Data Analysis on JCOPE data"
   ]
  },
  {
   "cell_type": "code",
   "execution_count": 1,
   "metadata": {
    "collapsed": true
   },
   "outputs": [],
   "source": [
    "import os"
   ]
  },
  {
   "cell_type": "code",
   "execution_count": 3,
   "metadata": {
    "collapsed": false
   },
   "outputs": [
    {
     "data": {
      "text/plain": [
       "['.ipynb_checkpoints',\n",
       " '2007-2016 Lobbyist Totals (As of 10-17-16).csv',\n",
       " 'Client Glossary of Terms .pdf',\n",
       " 'Client Totals as 10-17-2016.csv',\n",
       " 'jcope.ipynb',\n",
       " 'Lobbyist Glossary of Terms .pdf',\n",
       " 'Lobbyist Public Disbursement - (As of 10-17-2016).csv',\n",
       " 'Lobbyist Public Disbursement Glossary of Terms .pdf',\n",
       " 'Public Corporation Glossary of Terms .pdf',\n",
       " 'Public Corporation Totals - (As of 10-17-2016).csv']"
      ]
     },
     "execution_count": 3,
     "metadata": {},
     "output_type": "execute_result"
    }
   ],
   "source": [
    "# Get a list of files in the directory \n",
    "os.listdir('.')"
   ]
  },
  {
   "cell_type": "code",
   "execution_count": 4,
   "metadata": {
    "collapsed": true
   },
   "outputs": [],
   "source": [
    "# import other cool stuff\n",
    "import pandas as pd\n",
    "import numpy as np\n",
    "import matplotlib.pyplot as plt"
   ]
  },
  {
   "cell_type": "code",
   "execution_count": 5,
   "metadata": {
    "collapsed": false
   },
   "outputs": [
    {
     "name": "stderr",
     "output_type": "stream",
     "text": [
      "C:\\Users\\SinghMa\\AppData\\Local\\Continuum\\Anaconda2\\lib\\site-packages\\IPython\\core\\interactiveshell.py:2723: DtypeWarning: Columns (30,32,34,36,38) have mixed types. Specify dtype option on import or set low_memory=False.\n",
      "  interactivity=interactivity, compiler=compiler, result=result)\n"
     ]
    }
   ],
   "source": [
    "#Let us analyze Loobyist totals\n",
    "lobbyist_totals = pd.read_csv('./2007-2016 Lobbyist Totals (As of 10-17-16).csv')"
   ]
  },
  {
   "cell_type": "code",
   "execution_count": 7,
   "metadata": {
    "collapsed": false
   },
   "outputs": [
    {
     "name": "stdout",
     "output_type": "stream",
     "text": [
      "<class 'pandas.core.frame.DataFrame'>\n",
      "RangeIndex: 215355 entries, 0 to 215354\n",
      "Data columns (total 41 columns):\n",
      "REGISTRATION_YEAR           215355 non-null object\n",
      "LOBBYIST_NAME               215341 non-null object\n",
      "Lobbyist_ADDRESS1           215342 non-null object\n",
      "Lobbyist_ADDRESS2           103036 non-null object\n",
      "Lobbyist_CITY               215342 non-null object\n",
      "Lobbyist_STATE              215354 non-null object\n",
      "Lobbyist_ZIP                215343 non-null object\n",
      "Lobbyist_Phone              215341 non-null object\n",
      "Lobbyist_EMAIL              212140 non-null object\n",
      "Lobbying_Type               215341 non-null object\n",
      "Govt_Level                  215341 non-null object\n",
      "Lobbyist_Type               215341 non-null object\n",
      "AdditionalLobbyists_LR      200699 non-null object\n",
      "AdditionalLobbyists_LBR     185765 non-null object\n",
      "CLIENT_NAME                 215340 non-null object\n",
      "Client_ADDRESS1             215316 non-null object\n",
      "Client_ADDRESS2             72792 non-null object\n",
      "Client_CITY                 215339 non-null object\n",
      "Client_STATE                215340 non-null object\n",
      "Client_ZIP                  215340 non-null object\n",
      "Client_Phone                215340 non-null object\n",
      "Client_BusinessNature       215340 non-null object\n",
      "LR_ResponsiblePartyFName    215340 non-null object\n",
      "LR_ResponsiblePartyLName    215340 non-null object\n",
      "BIMONTHLY_YEAR              215340 non-null float64\n",
      "ReportingPeriod             215340 non-null object\n",
      "TOTAL_EXPENSES              215340 non-null float64\n",
      "TOTAL_COMPENSATION          215340 non-null float64\n",
      "TOTAL_REIMBURSED            215340 non-null float64\n",
      "BILL_DETAILS1               96601 non-null object\n",
      "BILL_DETAILS2               1650 non-null object\n",
      "PROCUREMENT_DETAILS1        4282 non-null object\n",
      "PROCUREMENT_DETAILS2        1 non-null object\n",
      "Lobbyist_Subjects1          171593 non-null object\n",
      "Lobbyist_Subjects2          69 non-null object\n",
      "Person1                     170622 non-null object\n",
      "Person2                     203 non-null object\n",
      "Procurement_Number1         3174 non-null object\n",
      "Procurement_Number2         6 non-null object\n",
      "Procurement_Subjects1       1634 non-null object\n",
      "Procurement_Subjects2       0 non-null float64\n",
      "dtypes: float64(5), object(36)\n",
      "memory usage: 67.4+ MB\n"
     ]
    }
   ],
   "source": [
    "# look at data info\n",
    "lobbyist_totals.info()"
   ]
  },
  {
   "cell_type": "code",
   "execution_count": 6,
   "metadata": {
    "collapsed": false
   },
   "outputs": [
    {
     "data": {
      "text/html": [
       "<div>\n",
       "<table border=\"1\" class=\"dataframe\">\n",
       "  <thead>\n",
       "    <tr style=\"text-align: right;\">\n",
       "      <th></th>\n",
       "      <th>REGISTRATION_YEAR</th>\n",
       "      <th>LOBBYIST_NAME</th>\n",
       "      <th>Lobbyist_ADDRESS1</th>\n",
       "      <th>Lobbyist_ADDRESS2</th>\n",
       "      <th>Lobbyist_CITY</th>\n",
       "      <th>Lobbyist_STATE</th>\n",
       "      <th>Lobbyist_ZIP</th>\n",
       "      <th>Lobbyist_Phone</th>\n",
       "      <th>Lobbyist_EMAIL</th>\n",
       "      <th>Lobbying_Type</th>\n",
       "      <th>...</th>\n",
       "      <th>PROCUREMENT_DETAILS1</th>\n",
       "      <th>PROCUREMENT_DETAILS2</th>\n",
       "      <th>Lobbyist_Subjects1</th>\n",
       "      <th>Lobbyist_Subjects2</th>\n",
       "      <th>Person1</th>\n",
       "      <th>Person2</th>\n",
       "      <th>Procurement_Number1</th>\n",
       "      <th>Procurement_Number2</th>\n",
       "      <th>Procurement_Subjects1</th>\n",
       "      <th>Procurement_Subjects2</th>\n",
       "    </tr>\n",
       "  </thead>\n",
       "  <tbody>\n",
       "    <tr>\n",
       "      <th>0</th>\n",
       "      <td>2007-2008</td>\n",
       "      <td>1199 SEIU UNITED HEALTHCARE WORKERS EAST (FKA ...</td>\n",
       "      <td>330 WEST 42ND STREET</td>\n",
       "      <td>7TH FLOOR</td>\n",
       "      <td>NEW YORK</td>\n",
       "      <td>NY</td>\n",
       "      <td>10036</td>\n",
       "      <td>(212) 603-1735</td>\n",
       "      <td>KFINNEGAN@LRBPC.COM</td>\n",
       "      <td>N</td>\n",
       "      <td>...</td>\n",
       "      <td>NaN</td>\n",
       "      <td>NaN</td>\n",
       "      <td>NYS BUDGET, HEALTHCARE</td>\n",
       "      <td>NaN</td>\n",
       "      <td>NYS ASSEMBLY, NYS SENATE, NYS EXECUTIVE CHAMBERS</td>\n",
       "      <td>NaN</td>\n",
       "      <td>NaN</td>\n",
       "      <td>NaN</td>\n",
       "      <td>NaN</td>\n",
       "      <td>NaN</td>\n",
       "    </tr>\n",
       "    <tr>\n",
       "      <th>1</th>\n",
       "      <td>2007-2008</td>\n",
       "      <td>1199 SEIU UNITED HEALTHCARE WORKERS EAST (FKA ...</td>\n",
       "      <td>330 WEST 42ND STREET</td>\n",
       "      <td>7TH FLOOR</td>\n",
       "      <td>NEW YORK</td>\n",
       "      <td>NY</td>\n",
       "      <td>10036</td>\n",
       "      <td>(212) 603-1735</td>\n",
       "      <td>KFINNEGAN@LRBPC.COM</td>\n",
       "      <td>N</td>\n",
       "      <td>...</td>\n",
       "      <td>NaN</td>\n",
       "      <td>NaN</td>\n",
       "      <td>FARMWORKER FAIR LABOR PRACTICES, CLINICAL LAB ...</td>\n",
       "      <td>NaN</td>\n",
       "      <td>ASSEMBLY, SENATE, EXECUTIVE, CITY</td>\n",
       "      <td>NaN</td>\n",
       "      <td>NaN</td>\n",
       "      <td>NaN</td>\n",
       "      <td>NaN</td>\n",
       "      <td>NaN</td>\n",
       "    </tr>\n",
       "    <tr>\n",
       "      <th>2</th>\n",
       "      <td>2007-2008</td>\n",
       "      <td>1199 SEIU UNITED HEALTHCARE WORKERS EAST (FKA ...</td>\n",
       "      <td>330 WEST 42ND STREET</td>\n",
       "      <td>7TH FLOOR</td>\n",
       "      <td>NEW YORK</td>\n",
       "      <td>NY</td>\n",
       "      <td>10036</td>\n",
       "      <td>(212) 603-1735</td>\n",
       "      <td>KFINNEGAN@LRBPC.COM</td>\n",
       "      <td>N</td>\n",
       "      <td>...</td>\n",
       "      <td>NaN</td>\n",
       "      <td>NaN</td>\n",
       "      <td>NYS BUDGET, HEALTHCARE</td>\n",
       "      <td>NaN</td>\n",
       "      <td>NYS ASSEMBLY, NYS SENATE, NYS EXECUTIVE CHAMBERS</td>\n",
       "      <td>NaN</td>\n",
       "      <td>NaN</td>\n",
       "      <td>NaN</td>\n",
       "      <td>NaN</td>\n",
       "      <td>NaN</td>\n",
       "    </tr>\n",
       "    <tr>\n",
       "      <th>3</th>\n",
       "      <td>2007-2008</td>\n",
       "      <td>1199 SEIU UNITED HEALTHCARE WORKERS EAST (FKA ...</td>\n",
       "      <td>330 WEST 42ND STREET</td>\n",
       "      <td>7TH FLOOR</td>\n",
       "      <td>NEW YORK</td>\n",
       "      <td>NY</td>\n",
       "      <td>10036</td>\n",
       "      <td>(212) 603-1735</td>\n",
       "      <td>KFINNEGAN@LRBPC.COM</td>\n",
       "      <td>N</td>\n",
       "      <td>...</td>\n",
       "      <td>NaN</td>\n",
       "      <td>NaN</td>\n",
       "      <td>9/11 WORKERS' COMPENSATION BENEFITS, HEALTHY N...</td>\n",
       "      <td>NaN</td>\n",
       "      <td>NYS ASSEMBLY, NYS SENATE, NYS EXECUTIVE CHAMBERS</td>\n",
       "      <td>NaN</td>\n",
       "      <td>NaN</td>\n",
       "      <td>NaN</td>\n",
       "      <td>NaN</td>\n",
       "      <td>NaN</td>\n",
       "    </tr>\n",
       "    <tr>\n",
       "      <th>4</th>\n",
       "      <td>2007-2008</td>\n",
       "      <td>1199 SEIU UNITED HEALTHCARE WORKERS EAST (FKA ...</td>\n",
       "      <td>330 WEST 42ND STREET</td>\n",
       "      <td>7TH FLOOR</td>\n",
       "      <td>NEW YORK</td>\n",
       "      <td>NY</td>\n",
       "      <td>10036</td>\n",
       "      <td>(212) 603-1735</td>\n",
       "      <td>KFINNEGAN@LRBPC.COM</td>\n",
       "      <td>N</td>\n",
       "      <td>...</td>\n",
       "      <td>NaN</td>\n",
       "      <td>NaN</td>\n",
       "      <td>9/11 WORKERS' COMPENSATION BILL&amp;#x0D;</td>\n",
       "      <td>NaN</td>\n",
       "      <td>NYS ASSEMBLY, NYS SENATE, NYS EXECUTIVE CHAMBERS</td>\n",
       "      <td>NaN</td>\n",
       "      <td>NaN</td>\n",
       "      <td>NaN</td>\n",
       "      <td>NaN</td>\n",
       "      <td>NaN</td>\n",
       "    </tr>\n",
       "  </tbody>\n",
       "</table>\n",
       "<p>5 rows × 41 columns</p>\n",
       "</div>"
      ],
      "text/plain": [
       "  REGISTRATION_YEAR                                      LOBBYIST_NAME  \\\n",
       "0         2007-2008  1199 SEIU UNITED HEALTHCARE WORKERS EAST (FKA ...   \n",
       "1         2007-2008  1199 SEIU UNITED HEALTHCARE WORKERS EAST (FKA ...   \n",
       "2         2007-2008  1199 SEIU UNITED HEALTHCARE WORKERS EAST (FKA ...   \n",
       "3         2007-2008  1199 SEIU UNITED HEALTHCARE WORKERS EAST (FKA ...   \n",
       "4         2007-2008  1199 SEIU UNITED HEALTHCARE WORKERS EAST (FKA ...   \n",
       "\n",
       "      Lobbyist_ADDRESS1 Lobbyist_ADDRESS2 Lobbyist_CITY Lobbyist_STATE  \\\n",
       "0  330 WEST 42ND STREET         7TH FLOOR      NEW YORK             NY   \n",
       "1  330 WEST 42ND STREET         7TH FLOOR      NEW YORK             NY   \n",
       "2  330 WEST 42ND STREET         7TH FLOOR      NEW YORK             NY   \n",
       "3  330 WEST 42ND STREET         7TH FLOOR      NEW YORK             NY   \n",
       "4  330 WEST 42ND STREET         7TH FLOOR      NEW YORK             NY   \n",
       "\n",
       "  Lobbyist_ZIP  Lobbyist_Phone       Lobbyist_EMAIL Lobbying_Type  \\\n",
       "0        10036  (212) 603-1735  KFINNEGAN@LRBPC.COM             N   \n",
       "1        10036  (212) 603-1735  KFINNEGAN@LRBPC.COM             N   \n",
       "2        10036  (212) 603-1735  KFINNEGAN@LRBPC.COM             N   \n",
       "3        10036  (212) 603-1735  KFINNEGAN@LRBPC.COM             N   \n",
       "4        10036  (212) 603-1735  KFINNEGAN@LRBPC.COM             N   \n",
       "\n",
       "           ...          PROCUREMENT_DETAILS1 PROCUREMENT_DETAILS2  \\\n",
       "0          ...                           NaN                  NaN   \n",
       "1          ...                           NaN                  NaN   \n",
       "2          ...                           NaN                  NaN   \n",
       "3          ...                           NaN                  NaN   \n",
       "4          ...                           NaN                  NaN   \n",
       "\n",
       "                                  Lobbyist_Subjects1 Lobbyist_Subjects2  \\\n",
       "0                             NYS BUDGET, HEALTHCARE                NaN   \n",
       "1  FARMWORKER FAIR LABOR PRACTICES, CLINICAL LAB ...                NaN   \n",
       "2                             NYS BUDGET, HEALTHCARE                NaN   \n",
       "3  9/11 WORKERS' COMPENSATION BENEFITS, HEALTHY N...                NaN   \n",
       "4             9/11 WORKERS' COMPENSATION BILL&#x0D;                 NaN   \n",
       "\n",
       "                                            Person1 Person2  \\\n",
       "0  NYS ASSEMBLY, NYS SENATE, NYS EXECUTIVE CHAMBERS     NaN   \n",
       "1                 ASSEMBLY, SENATE, EXECUTIVE, CITY     NaN   \n",
       "2  NYS ASSEMBLY, NYS SENATE, NYS EXECUTIVE CHAMBERS     NaN   \n",
       "3  NYS ASSEMBLY, NYS SENATE, NYS EXECUTIVE CHAMBERS     NaN   \n",
       "4  NYS ASSEMBLY, NYS SENATE, NYS EXECUTIVE CHAMBERS     NaN   \n",
       "\n",
       "  Procurement_Number1 Procurement_Number2 Procurement_Subjects1  \\\n",
       "0                 NaN                 NaN                   NaN   \n",
       "1                 NaN                 NaN                   NaN   \n",
       "2                 NaN                 NaN                   NaN   \n",
       "3                 NaN                 NaN                   NaN   \n",
       "4                 NaN                 NaN                   NaN   \n",
       "\n",
       "  Procurement_Subjects2  \n",
       "0                   NaN  \n",
       "1                   NaN  \n",
       "2                   NaN  \n",
       "3                   NaN  \n",
       "4                   NaN  \n",
       "\n",
       "[5 rows x 41 columns]"
      ]
     },
     "execution_count": 6,
     "metadata": {},
     "output_type": "execute_result"
    }
   ],
   "source": [
    "# take a peek at the head of data\n",
    "lobbyist_totals.head()"
   ]
  },
  {
   "cell_type": "code",
   "execution_count": 12,
   "metadata": {
    "collapsed": false
   },
   "outputs": [
    {
     "data": {
      "text/plain": [
       "['REGISTRATION_YEAR',\n",
       " 'LOBBYIST_NAME',\n",
       " 'Lobbyist_ADDRESS1',\n",
       " 'Lobbyist_ADDRESS2',\n",
       " 'Lobbyist_CITY',\n",
       " 'Lobbyist_STATE',\n",
       " 'Lobbyist_ZIP',\n",
       " 'Lobbyist_Phone',\n",
       " 'Lobbyist_EMAIL',\n",
       " 'Lobbying_Type',\n",
       " 'Govt_Level',\n",
       " 'Lobbyist_Type',\n",
       " 'AdditionalLobbyists_LR',\n",
       " 'AdditionalLobbyists_LBR',\n",
       " 'CLIENT_NAME',\n",
       " 'Client_ADDRESS1',\n",
       " 'Client_ADDRESS2',\n",
       " 'Client_CITY',\n",
       " 'Client_STATE',\n",
       " 'Client_ZIP',\n",
       " 'Client_Phone',\n",
       " 'Client_BusinessNature',\n",
       " 'LR_ResponsiblePartyFName',\n",
       " 'LR_ResponsiblePartyLName',\n",
       " 'BIMONTHLY_YEAR',\n",
       " 'ReportingPeriod',\n",
       " 'TOTAL_EXPENSES',\n",
       " 'TOTAL_COMPENSATION',\n",
       " 'TOTAL_REIMBURSED',\n",
       " 'BILL_DETAILS1',\n",
       " 'BILL_DETAILS2',\n",
       " 'PROCUREMENT_DETAILS1',\n",
       " 'PROCUREMENT_DETAILS2',\n",
       " 'Lobbyist_Subjects1',\n",
       " 'Lobbyist_Subjects2',\n",
       " 'Person1',\n",
       " 'Person2',\n",
       " 'Procurement_Number1',\n",
       " 'Procurement_Number2',\n",
       " 'Procurement_Subjects1',\n",
       " 'Procurement_Subjects2']"
      ]
     },
     "execution_count": 12,
     "metadata": {},
     "output_type": "execute_result"
    }
   ],
   "source": [
    "#get list of columns\n",
    "#lobbyist_totals.columns\n",
    "[c for c in lobbyist_totals]"
   ]
  },
  {
   "cell_type": "code",
   "execution_count": 15,
   "metadata": {
    "collapsed": false
   },
   "outputs": [
    {
     "data": {
      "text/plain": [
       "REGISTRATION_YEAR                0\n",
       "LOBBYIST_NAME                   14\n",
       "Lobbyist_ADDRESS1               13\n",
       "Lobbyist_ADDRESS2           112319\n",
       "Lobbyist_CITY                   13\n",
       "Lobbyist_STATE                   1\n",
       "Lobbyist_ZIP                    12\n",
       "Lobbyist_Phone                  14\n",
       "Lobbyist_EMAIL                3215\n",
       "Lobbying_Type                   14\n",
       "Govt_Level                      14\n",
       "Lobbyist_Type                   14\n",
       "AdditionalLobbyists_LR       14656\n",
       "AdditionalLobbyists_LBR      29590\n",
       "CLIENT_NAME                     15\n",
       "Client_ADDRESS1                 39\n",
       "Client_ADDRESS2             142563\n",
       "Client_CITY                     16\n",
       "Client_STATE                    15\n",
       "Client_ZIP                      15\n",
       "Client_Phone                    15\n",
       "Client_BusinessNature           15\n",
       "LR_ResponsiblePartyFName        15\n",
       "LR_ResponsiblePartyLName        15\n",
       "BIMONTHLY_YEAR                  15\n",
       "ReportingPeriod                 15\n",
       "TOTAL_EXPENSES                  15\n",
       "TOTAL_COMPENSATION              15\n",
       "TOTAL_REIMBURSED                15\n",
       "BILL_DETAILS1               118754\n",
       "BILL_DETAILS2               213705\n",
       "PROCUREMENT_DETAILS1        211073\n",
       "PROCUREMENT_DETAILS2        215354\n",
       "Lobbyist_Subjects1           43762\n",
       "Lobbyist_Subjects2          215286\n",
       "Person1                      44733\n",
       "Person2                     215152\n",
       "Procurement_Number1         212181\n",
       "Procurement_Number2         215349\n",
       "Procurement_Subjects1       213721\n",
       "Procurement_Subjects2       215355\n",
       "dtype: int64"
      ]
     },
     "execution_count": 15,
     "metadata": {},
     "output_type": "execute_result"
    }
   ],
   "source": [
    "lobbyist_totals.isnull().sum()"
   ]
  },
  {
   "cell_type": "code",
   "execution_count": 16,
   "metadata": {
    "collapsed": true
   },
   "outputs": [],
   "source": [
    "#Lets drop a few columns\n",
    "#Lobbyist details, client details (especially address)\n",
    "\n",
    "#Lobbyist_ADDRESS1               13\n",
    "#Lobbyist_ADDRESS2           112319\n",
    "#Lobbyist_CITY                   13\n",
    "#Lobbyist_STATE                   1\n",
    "#Lobbyist_ZIP                    12\n",
    "#Lobbyist_Phone                  14\n",
    "#Lobbyist_EMAIL                3215\n",
    "#Client_ADDRESS1                 39\n",
    "#Client_ADDRESS2             142563\n",
    "#Client_CITY                     16\n",
    "#Client_STATE                    15\n",
    "#Client_ZIP                      15\n",
    "#Client_Phone                    15\n",
    "\n",
    "my_cols=lobbyist_totals.columns.drop(['Lobbyist_ADDRESS1','Lobbyist_ADDRESS2','Lobbyist_CITY','Lobbyist_STATE','Lobbyist_ZIP',\\\n",
    "                                     'Lobbyist_Phone','Lobbyist_EMAIL','Client_ADDRESS1','Client_ADDRESS2','Client_CITY','Client_STATE',\\\n",
    "                                     'Client_ZIP','Client_Phone')\n",
    "\n",
    "lobbyist=lobbyist_totals[my_cols]"
   ]
  },
  {
   "cell_type": "code",
   "execution_count": 49,
   "metadata": {
    "collapsed": false,
    "scrolled": true
   },
   "outputs": [],
   "source": [
    "#LR_ResponsiblePartyFName        15\n",
    "#LR_ResponsiblePartyLName        15\n",
    "\n",
    "#lobbyist_totals['LR_ResponsiblePartyLName']\n",
    "\n",
    "my_cols=lobbyist.columns.drop(['LR_ResponsiblePartyFName','LR_ResponsiblePartyLName'])\n",
    "lobbyist=lobbyist[my_cols]"
   ]
  },
  {
   "cell_type": "code",
   "execution_count": 50,
   "metadata": {
    "collapsed": false
   },
   "outputs": [
    {
     "data": {
      "text/html": [
       "<div>\n",
       "<table border=\"1\" class=\"dataframe\">\n",
       "  <thead>\n",
       "    <tr style=\"text-align: right;\">\n",
       "      <th></th>\n",
       "      <th>REGISTRATION_YEAR</th>\n",
       "      <th>LOBBYIST_NAME</th>\n",
       "      <th>Lobbying_Type</th>\n",
       "      <th>Govt_Level</th>\n",
       "      <th>Lobbyist_Type</th>\n",
       "      <th>AdditionalLobbyists_LR</th>\n",
       "      <th>AdditionalLobbyists_LBR</th>\n",
       "      <th>CLIENT_NAME</th>\n",
       "      <th>Client_BusinessNature</th>\n",
       "      <th>BIMONTHLY_YEAR</th>\n",
       "      <th>ReportingPeriod</th>\n",
       "      <th>TOTAL_EXPENSES</th>\n",
       "      <th>TOTAL_COMPENSATION</th>\n",
       "      <th>TOTAL_REIMBURSED</th>\n",
       "      <th>Lobbyist_Subjects1</th>\n",
       "      <th>Lobbyist_Subjects2</th>\n",
       "      <th>Person1</th>\n",
       "      <th>Person2</th>\n",
       "      <th>Procurement_Subjects1</th>\n",
       "      <th>Procurement_Subjects2</th>\n",
       "    </tr>\n",
       "  </thead>\n",
       "  <tbody>\n",
       "    <tr>\n",
       "      <th>0</th>\n",
       "      <td>2007-2008</td>\n",
       "      <td>1199 SEIU UNITED HEALTHCARE WORKERS EAST (FKA ...</td>\n",
       "      <td>N</td>\n",
       "      <td>B</td>\n",
       "      <td>E</td>\n",
       "      <td>DICK FARFAGLIA,PATRICK GASPARD,DENNIS  RIVERA,...</td>\n",
       "      <td>DICK FARFAGLIA,PATRICK GASPARD,PAT LIPPOLD,MIC...</td>\n",
       "      <td>1199 SEIU UNITED HEALTHCARE WORKERS EAST</td>\n",
       "      <td>Health &amp; Mental Hygiene</td>\n",
       "      <td>2007.0</td>\n",
       "      <td>MJ</td>\n",
       "      <td>0.0</td>\n",
       "      <td>8000.0</td>\n",
       "      <td>0.0</td>\n",
       "      <td>NYS BUDGET, HEALTHCARE</td>\n",
       "      <td>NaN</td>\n",
       "      <td>NYS ASSEMBLY, NYS SENATE, NYS EXECUTIVE CHAMBERS</td>\n",
       "      <td>NaN</td>\n",
       "      <td>NaN</td>\n",
       "      <td>NaN</td>\n",
       "    </tr>\n",
       "    <tr>\n",
       "      <th>1</th>\n",
       "      <td>2007-2008</td>\n",
       "      <td>1199 SEIU UNITED HEALTHCARE WORKERS EAST (FKA ...</td>\n",
       "      <td>N</td>\n",
       "      <td>B</td>\n",
       "      <td>E</td>\n",
       "      <td>DICK FARFAGLIA,PATRICK GASPARD,DENNIS  RIVERA,...</td>\n",
       "      <td>DICK FARFAGLIA,PATRICK GASPARD,PAT LIPPOLD,MIC...</td>\n",
       "      <td>1199 SEIU UNITED HEALTHCARE WORKERS EAST</td>\n",
       "      <td>Health &amp; Mental Hygiene</td>\n",
       "      <td>2008.0</td>\n",
       "      <td>MA</td>\n",
       "      <td>164.0</td>\n",
       "      <td>8000.0</td>\n",
       "      <td>0.0</td>\n",
       "      <td>FARMWORKER FAIR LABOR PRACTICES, CLINICAL LAB ...</td>\n",
       "      <td>NaN</td>\n",
       "      <td>ASSEMBLY, SENATE, EXECUTIVE, CITY</td>\n",
       "      <td>NaN</td>\n",
       "      <td>NaN</td>\n",
       "      <td>NaN</td>\n",
       "    </tr>\n",
       "    <tr>\n",
       "      <th>2</th>\n",
       "      <td>2007-2008</td>\n",
       "      <td>1199 SEIU UNITED HEALTHCARE WORKERS EAST (FKA ...</td>\n",
       "      <td>N</td>\n",
       "      <td>B</td>\n",
       "      <td>E</td>\n",
       "      <td>DICK FARFAGLIA,PATRICK GASPARD,DENNIS  RIVERA,...</td>\n",
       "      <td>DICK FARFAGLIA,PATRICK GASPARD,PAT LIPPOLD,MIC...</td>\n",
       "      <td>1199 SEIU UNITED HEALTHCARE WORKERS EAST</td>\n",
       "      <td>Health &amp; Mental Hygiene</td>\n",
       "      <td>2007.0</td>\n",
       "      <td>MA</td>\n",
       "      <td>2969000.0</td>\n",
       "      <td>8000.0</td>\n",
       "      <td>0.0</td>\n",
       "      <td>NYS BUDGET, HEALTHCARE</td>\n",
       "      <td>NaN</td>\n",
       "      <td>NYS ASSEMBLY, NYS SENATE, NYS EXECUTIVE CHAMBERS</td>\n",
       "      <td>NaN</td>\n",
       "      <td>NaN</td>\n",
       "      <td>NaN</td>\n",
       "    </tr>\n",
       "    <tr>\n",
       "      <th>3</th>\n",
       "      <td>2007-2008</td>\n",
       "      <td>1199 SEIU UNITED HEALTHCARE WORKERS EAST (FKA ...</td>\n",
       "      <td>N</td>\n",
       "      <td>B</td>\n",
       "      <td>E</td>\n",
       "      <td>DICK FARFAGLIA,PATRICK GASPARD,DENNIS  RIVERA,...</td>\n",
       "      <td>PAT LIPPOLD,MICHELE MARTO,DICK FARFAGLIA,PATRI...</td>\n",
       "      <td>1199 SEIU UNITED HEALTHCARE WORKERS EAST</td>\n",
       "      <td>Health &amp; Mental Hygiene</td>\n",
       "      <td>2007.0</td>\n",
       "      <td>JA</td>\n",
       "      <td>5000.0</td>\n",
       "      <td>8000.0</td>\n",
       "      <td>0.0</td>\n",
       "      <td>9/11 WORKERS' COMPENSATION BENEFITS, HEALTHY N...</td>\n",
       "      <td>NaN</td>\n",
       "      <td>NYS ASSEMBLY, NYS SENATE, NYS EXECUTIVE CHAMBERS</td>\n",
       "      <td>NaN</td>\n",
       "      <td>NaN</td>\n",
       "      <td>NaN</td>\n",
       "    </tr>\n",
       "    <tr>\n",
       "      <th>4</th>\n",
       "      <td>2007-2008</td>\n",
       "      <td>1199 SEIU UNITED HEALTHCARE WORKERS EAST (FKA ...</td>\n",
       "      <td>N</td>\n",
       "      <td>B</td>\n",
       "      <td>E</td>\n",
       "      <td>DICK FARFAGLIA,PATRICK GASPARD,DENNIS  RIVERA,...</td>\n",
       "      <td>DICK FARFAGLIA,PATRICK GASPARD,PAT LIPPOLD,MIC...</td>\n",
       "      <td>1199 SEIU UNITED HEALTHCARE WORKERS EAST</td>\n",
       "      <td>Health &amp; Mental Hygiene</td>\n",
       "      <td>2007.0</td>\n",
       "      <td>SO</td>\n",
       "      <td>82174.0</td>\n",
       "      <td>8000.0</td>\n",
       "      <td>0.0</td>\n",
       "      <td>9/11 WORKERS' COMPENSATION BILL&amp;#x0D;</td>\n",
       "      <td>NaN</td>\n",
       "      <td>NYS ASSEMBLY, NYS SENATE, NYS EXECUTIVE CHAMBERS</td>\n",
       "      <td>NaN</td>\n",
       "      <td>NaN</td>\n",
       "      <td>NaN</td>\n",
       "    </tr>\n",
       "  </tbody>\n",
       "</table>\n",
       "</div>"
      ],
      "text/plain": [
       "  REGISTRATION_YEAR                                      LOBBYIST_NAME  \\\n",
       "0         2007-2008  1199 SEIU UNITED HEALTHCARE WORKERS EAST (FKA ...   \n",
       "1         2007-2008  1199 SEIU UNITED HEALTHCARE WORKERS EAST (FKA ...   \n",
       "2         2007-2008  1199 SEIU UNITED HEALTHCARE WORKERS EAST (FKA ...   \n",
       "3         2007-2008  1199 SEIU UNITED HEALTHCARE WORKERS EAST (FKA ...   \n",
       "4         2007-2008  1199 SEIU UNITED HEALTHCARE WORKERS EAST (FKA ...   \n",
       "\n",
       "  Lobbying_Type Govt_Level Lobbyist_Type  \\\n",
       "0             N          B             E   \n",
       "1             N          B             E   \n",
       "2             N          B             E   \n",
       "3             N          B             E   \n",
       "4             N          B             E   \n",
       "\n",
       "                              AdditionalLobbyists_LR  \\\n",
       "0  DICK FARFAGLIA,PATRICK GASPARD,DENNIS  RIVERA,...   \n",
       "1  DICK FARFAGLIA,PATRICK GASPARD,DENNIS  RIVERA,...   \n",
       "2  DICK FARFAGLIA,PATRICK GASPARD,DENNIS  RIVERA,...   \n",
       "3  DICK FARFAGLIA,PATRICK GASPARD,DENNIS  RIVERA,...   \n",
       "4  DICK FARFAGLIA,PATRICK GASPARD,DENNIS  RIVERA,...   \n",
       "\n",
       "                             AdditionalLobbyists_LBR  \\\n",
       "0  DICK FARFAGLIA,PATRICK GASPARD,PAT LIPPOLD,MIC...   \n",
       "1  DICK FARFAGLIA,PATRICK GASPARD,PAT LIPPOLD,MIC...   \n",
       "2  DICK FARFAGLIA,PATRICK GASPARD,PAT LIPPOLD,MIC...   \n",
       "3  PAT LIPPOLD,MICHELE MARTO,DICK FARFAGLIA,PATRI...   \n",
       "4  DICK FARFAGLIA,PATRICK GASPARD,PAT LIPPOLD,MIC...   \n",
       "\n",
       "                                CLIENT_NAME    Client_BusinessNature  \\\n",
       "0  1199 SEIU UNITED HEALTHCARE WORKERS EAST  Health & Mental Hygiene   \n",
       "1  1199 SEIU UNITED HEALTHCARE WORKERS EAST  Health & Mental Hygiene   \n",
       "2  1199 SEIU UNITED HEALTHCARE WORKERS EAST  Health & Mental Hygiene   \n",
       "3  1199 SEIU UNITED HEALTHCARE WORKERS EAST  Health & Mental Hygiene   \n",
       "4  1199 SEIU UNITED HEALTHCARE WORKERS EAST  Health & Mental Hygiene   \n",
       "\n",
       "   BIMONTHLY_YEAR ReportingPeriod  TOTAL_EXPENSES  TOTAL_COMPENSATION  \\\n",
       "0          2007.0              MJ             0.0              8000.0   \n",
       "1          2008.0              MA           164.0              8000.0   \n",
       "2          2007.0              MA       2969000.0              8000.0   \n",
       "3          2007.0              JA          5000.0              8000.0   \n",
       "4          2007.0              SO         82174.0              8000.0   \n",
       "\n",
       "   TOTAL_REIMBURSED                                 Lobbyist_Subjects1  \\\n",
       "0               0.0                             NYS BUDGET, HEALTHCARE   \n",
       "1               0.0  FARMWORKER FAIR LABOR PRACTICES, CLINICAL LAB ...   \n",
       "2               0.0                             NYS BUDGET, HEALTHCARE   \n",
       "3               0.0  9/11 WORKERS' COMPENSATION BENEFITS, HEALTHY N...   \n",
       "4               0.0             9/11 WORKERS' COMPENSATION BILL&#x0D;    \n",
       "\n",
       "  Lobbyist_Subjects2                                           Person1  \\\n",
       "0                NaN  NYS ASSEMBLY, NYS SENATE, NYS EXECUTIVE CHAMBERS   \n",
       "1                NaN                 ASSEMBLY, SENATE, EXECUTIVE, CITY   \n",
       "2                NaN  NYS ASSEMBLY, NYS SENATE, NYS EXECUTIVE CHAMBERS   \n",
       "3                NaN  NYS ASSEMBLY, NYS SENATE, NYS EXECUTIVE CHAMBERS   \n",
       "4                NaN  NYS ASSEMBLY, NYS SENATE, NYS EXECUTIVE CHAMBERS   \n",
       "\n",
       "  Person2 Procurement_Subjects1  Procurement_Subjects2  \n",
       "0     NaN                   NaN                    NaN  \n",
       "1     NaN                   NaN                    NaN  \n",
       "2     NaN                   NaN                    NaN  \n",
       "3     NaN                   NaN                    NaN  \n",
       "4     NaN                   NaN                    NaN  "
      ]
     },
     "execution_count": 50,
     "metadata": {},
     "output_type": "execute_result"
    }
   ],
   "source": [
    "lobbyist.head()"
   ]
  },
  {
   "cell_type": "code",
   "execution_count": 51,
   "metadata": {
    "collapsed": true
   },
   "outputs": [],
   "source": [
    "#enumerate a few column\n",
    "#Lobbying_Type\tGovt_Level\tLobbyist_Type\tReportingPeriod\n",
    "#Lobbying_Type:Procurement = (P), Non-Procurement = (N), Both =(B)\n",
    "#Govt_Level:State = (S), Local = (L) Both = (B)\n",
    "#Lobbyist_Type:Retained = (R), Employeed = (E), Designated = (D)\n",
    "#ReportingPeriod:Jan-Feb (JF),Mar-Apr (MA),May-Jun (MJ),Jul-Aug (JA),Sep-Oct (SA),Nov-Dec (ND)\n",
    "\n",
    "Lobbying_Type_map={'P':'Procurement','N':'Non-Procurement', 'B':'Both Procurement and Non-Procurement'}\n",
    "Govt_Level_map={'S':'State','L':'Local','B':'Both State and Local'}\n",
    "Lobbyist_Type_map={'R':'Retained','E':'Employeed','D':'Designated'}\n",
    "ReportingPeriod_map={'JF':'Jan-Feb','MA':'Mar-Apr','MJ':'May-Jun','JA':'Jul-Aug','SA':'Sep-Oct','ND':'Nov-Dec'}\n",
    "\n",
    "lobbyist['Lobbying_Type']=lobbyist.Lobbying_Type.map(Lobbying_Type_map)\n",
    "lobbyist['Govt_Level']=lobbyist.Govt_Level.map(Govt_Level_map)\n",
    "lobbyist['Lobbyist_Type']=lobbyist.Lobbyist_Type.map(Lobbyist_Type_map)\n",
    "lobbyist['ReportingPeriod']=lobbyist.ReportingPeriod.map(ReportingPeriod_map)"
   ]
  },
  {
   "cell_type": "code",
   "execution_count": 52,
   "metadata": {
    "collapsed": false
   },
   "outputs": [
    {
     "data": {
      "text/html": [
       "<div>\n",
       "<table border=\"1\" class=\"dataframe\">\n",
       "  <thead>\n",
       "    <tr style=\"text-align: right;\">\n",
       "      <th></th>\n",
       "      <th>REGISTRATION_YEAR</th>\n",
       "      <th>LOBBYIST_NAME</th>\n",
       "      <th>Lobbying_Type</th>\n",
       "      <th>Govt_Level</th>\n",
       "      <th>Lobbyist_Type</th>\n",
       "      <th>AdditionalLobbyists_LR</th>\n",
       "      <th>AdditionalLobbyists_LBR</th>\n",
       "      <th>CLIENT_NAME</th>\n",
       "      <th>Client_BusinessNature</th>\n",
       "      <th>BIMONTHLY_YEAR</th>\n",
       "      <th>ReportingPeriod</th>\n",
       "      <th>TOTAL_EXPENSES</th>\n",
       "      <th>TOTAL_COMPENSATION</th>\n",
       "      <th>TOTAL_REIMBURSED</th>\n",
       "      <th>Lobbyist_Subjects1</th>\n",
       "      <th>Lobbyist_Subjects2</th>\n",
       "      <th>Person1</th>\n",
       "      <th>Person2</th>\n",
       "      <th>Procurement_Subjects1</th>\n",
       "      <th>Procurement_Subjects2</th>\n",
       "    </tr>\n",
       "  </thead>\n",
       "  <tbody>\n",
       "    <tr>\n",
       "      <th>0</th>\n",
       "      <td>2007-2008</td>\n",
       "      <td>1199 SEIU UNITED HEALTHCARE WORKERS EAST (FKA ...</td>\n",
       "      <td>Non-Procurement</td>\n",
       "      <td>Both State and Local</td>\n",
       "      <td>Employeed</td>\n",
       "      <td>DICK FARFAGLIA,PATRICK GASPARD,DENNIS  RIVERA,...</td>\n",
       "      <td>DICK FARFAGLIA,PATRICK GASPARD,PAT LIPPOLD,MIC...</td>\n",
       "      <td>1199 SEIU UNITED HEALTHCARE WORKERS EAST</td>\n",
       "      <td>Health &amp; Mental Hygiene</td>\n",
       "      <td>2007.0</td>\n",
       "      <td>May-Jun</td>\n",
       "      <td>0.0</td>\n",
       "      <td>8000.0</td>\n",
       "      <td>0.0</td>\n",
       "      <td>NYS BUDGET, HEALTHCARE</td>\n",
       "      <td>NaN</td>\n",
       "      <td>NYS ASSEMBLY, NYS SENATE, NYS EXECUTIVE CHAMBERS</td>\n",
       "      <td>NaN</td>\n",
       "      <td>NaN</td>\n",
       "      <td>NaN</td>\n",
       "    </tr>\n",
       "    <tr>\n",
       "      <th>1</th>\n",
       "      <td>2007-2008</td>\n",
       "      <td>1199 SEIU UNITED HEALTHCARE WORKERS EAST (FKA ...</td>\n",
       "      <td>Non-Procurement</td>\n",
       "      <td>Both State and Local</td>\n",
       "      <td>Employeed</td>\n",
       "      <td>DICK FARFAGLIA,PATRICK GASPARD,DENNIS  RIVERA,...</td>\n",
       "      <td>DICK FARFAGLIA,PATRICK GASPARD,PAT LIPPOLD,MIC...</td>\n",
       "      <td>1199 SEIU UNITED HEALTHCARE WORKERS EAST</td>\n",
       "      <td>Health &amp; Mental Hygiene</td>\n",
       "      <td>2008.0</td>\n",
       "      <td>Mar-Apr</td>\n",
       "      <td>164.0</td>\n",
       "      <td>8000.0</td>\n",
       "      <td>0.0</td>\n",
       "      <td>FARMWORKER FAIR LABOR PRACTICES, CLINICAL LAB ...</td>\n",
       "      <td>NaN</td>\n",
       "      <td>ASSEMBLY, SENATE, EXECUTIVE, CITY</td>\n",
       "      <td>NaN</td>\n",
       "      <td>NaN</td>\n",
       "      <td>NaN</td>\n",
       "    </tr>\n",
       "    <tr>\n",
       "      <th>2</th>\n",
       "      <td>2007-2008</td>\n",
       "      <td>1199 SEIU UNITED HEALTHCARE WORKERS EAST (FKA ...</td>\n",
       "      <td>Non-Procurement</td>\n",
       "      <td>Both State and Local</td>\n",
       "      <td>Employeed</td>\n",
       "      <td>DICK FARFAGLIA,PATRICK GASPARD,DENNIS  RIVERA,...</td>\n",
       "      <td>DICK FARFAGLIA,PATRICK GASPARD,PAT LIPPOLD,MIC...</td>\n",
       "      <td>1199 SEIU UNITED HEALTHCARE WORKERS EAST</td>\n",
       "      <td>Health &amp; Mental Hygiene</td>\n",
       "      <td>2007.0</td>\n",
       "      <td>Mar-Apr</td>\n",
       "      <td>2969000.0</td>\n",
       "      <td>8000.0</td>\n",
       "      <td>0.0</td>\n",
       "      <td>NYS BUDGET, HEALTHCARE</td>\n",
       "      <td>NaN</td>\n",
       "      <td>NYS ASSEMBLY, NYS SENATE, NYS EXECUTIVE CHAMBERS</td>\n",
       "      <td>NaN</td>\n",
       "      <td>NaN</td>\n",
       "      <td>NaN</td>\n",
       "    </tr>\n",
       "    <tr>\n",
       "      <th>3</th>\n",
       "      <td>2007-2008</td>\n",
       "      <td>1199 SEIU UNITED HEALTHCARE WORKERS EAST (FKA ...</td>\n",
       "      <td>Non-Procurement</td>\n",
       "      <td>Both State and Local</td>\n",
       "      <td>Employeed</td>\n",
       "      <td>DICK FARFAGLIA,PATRICK GASPARD,DENNIS  RIVERA,...</td>\n",
       "      <td>PAT LIPPOLD,MICHELE MARTO,DICK FARFAGLIA,PATRI...</td>\n",
       "      <td>1199 SEIU UNITED HEALTHCARE WORKERS EAST</td>\n",
       "      <td>Health &amp; Mental Hygiene</td>\n",
       "      <td>2007.0</td>\n",
       "      <td>Jul-Aug</td>\n",
       "      <td>5000.0</td>\n",
       "      <td>8000.0</td>\n",
       "      <td>0.0</td>\n",
       "      <td>9/11 WORKERS' COMPENSATION BENEFITS, HEALTHY N...</td>\n",
       "      <td>NaN</td>\n",
       "      <td>NYS ASSEMBLY, NYS SENATE, NYS EXECUTIVE CHAMBERS</td>\n",
       "      <td>NaN</td>\n",
       "      <td>NaN</td>\n",
       "      <td>NaN</td>\n",
       "    </tr>\n",
       "    <tr>\n",
       "      <th>4</th>\n",
       "      <td>2007-2008</td>\n",
       "      <td>1199 SEIU UNITED HEALTHCARE WORKERS EAST (FKA ...</td>\n",
       "      <td>Non-Procurement</td>\n",
       "      <td>Both State and Local</td>\n",
       "      <td>Employeed</td>\n",
       "      <td>DICK FARFAGLIA,PATRICK GASPARD,DENNIS  RIVERA,...</td>\n",
       "      <td>DICK FARFAGLIA,PATRICK GASPARD,PAT LIPPOLD,MIC...</td>\n",
       "      <td>1199 SEIU UNITED HEALTHCARE WORKERS EAST</td>\n",
       "      <td>Health &amp; Mental Hygiene</td>\n",
       "      <td>2007.0</td>\n",
       "      <td>NaN</td>\n",
       "      <td>82174.0</td>\n",
       "      <td>8000.0</td>\n",
       "      <td>0.0</td>\n",
       "      <td>9/11 WORKERS' COMPENSATION BILL&amp;#x0D;</td>\n",
       "      <td>NaN</td>\n",
       "      <td>NYS ASSEMBLY, NYS SENATE, NYS EXECUTIVE CHAMBERS</td>\n",
       "      <td>NaN</td>\n",
       "      <td>NaN</td>\n",
       "      <td>NaN</td>\n",
       "    </tr>\n",
       "  </tbody>\n",
       "</table>\n",
       "</div>"
      ],
      "text/plain": [
       "  REGISTRATION_YEAR                                      LOBBYIST_NAME  \\\n",
       "0         2007-2008  1199 SEIU UNITED HEALTHCARE WORKERS EAST (FKA ...   \n",
       "1         2007-2008  1199 SEIU UNITED HEALTHCARE WORKERS EAST (FKA ...   \n",
       "2         2007-2008  1199 SEIU UNITED HEALTHCARE WORKERS EAST (FKA ...   \n",
       "3         2007-2008  1199 SEIU UNITED HEALTHCARE WORKERS EAST (FKA ...   \n",
       "4         2007-2008  1199 SEIU UNITED HEALTHCARE WORKERS EAST (FKA ...   \n",
       "\n",
       "     Lobbying_Type            Govt_Level Lobbyist_Type  \\\n",
       "0  Non-Procurement  Both State and Local     Employeed   \n",
       "1  Non-Procurement  Both State and Local     Employeed   \n",
       "2  Non-Procurement  Both State and Local     Employeed   \n",
       "3  Non-Procurement  Both State and Local     Employeed   \n",
       "4  Non-Procurement  Both State and Local     Employeed   \n",
       "\n",
       "                              AdditionalLobbyists_LR  \\\n",
       "0  DICK FARFAGLIA,PATRICK GASPARD,DENNIS  RIVERA,...   \n",
       "1  DICK FARFAGLIA,PATRICK GASPARD,DENNIS  RIVERA,...   \n",
       "2  DICK FARFAGLIA,PATRICK GASPARD,DENNIS  RIVERA,...   \n",
       "3  DICK FARFAGLIA,PATRICK GASPARD,DENNIS  RIVERA,...   \n",
       "4  DICK FARFAGLIA,PATRICK GASPARD,DENNIS  RIVERA,...   \n",
       "\n",
       "                             AdditionalLobbyists_LBR  \\\n",
       "0  DICK FARFAGLIA,PATRICK GASPARD,PAT LIPPOLD,MIC...   \n",
       "1  DICK FARFAGLIA,PATRICK GASPARD,PAT LIPPOLD,MIC...   \n",
       "2  DICK FARFAGLIA,PATRICK GASPARD,PAT LIPPOLD,MIC...   \n",
       "3  PAT LIPPOLD,MICHELE MARTO,DICK FARFAGLIA,PATRI...   \n",
       "4  DICK FARFAGLIA,PATRICK GASPARD,PAT LIPPOLD,MIC...   \n",
       "\n",
       "                                CLIENT_NAME    Client_BusinessNature  \\\n",
       "0  1199 SEIU UNITED HEALTHCARE WORKERS EAST  Health & Mental Hygiene   \n",
       "1  1199 SEIU UNITED HEALTHCARE WORKERS EAST  Health & Mental Hygiene   \n",
       "2  1199 SEIU UNITED HEALTHCARE WORKERS EAST  Health & Mental Hygiene   \n",
       "3  1199 SEIU UNITED HEALTHCARE WORKERS EAST  Health & Mental Hygiene   \n",
       "4  1199 SEIU UNITED HEALTHCARE WORKERS EAST  Health & Mental Hygiene   \n",
       "\n",
       "   BIMONTHLY_YEAR ReportingPeriod  TOTAL_EXPENSES  TOTAL_COMPENSATION  \\\n",
       "0          2007.0         May-Jun             0.0              8000.0   \n",
       "1          2008.0         Mar-Apr           164.0              8000.0   \n",
       "2          2007.0         Mar-Apr       2969000.0              8000.0   \n",
       "3          2007.0         Jul-Aug          5000.0              8000.0   \n",
       "4          2007.0             NaN         82174.0              8000.0   \n",
       "\n",
       "   TOTAL_REIMBURSED                                 Lobbyist_Subjects1  \\\n",
       "0               0.0                             NYS BUDGET, HEALTHCARE   \n",
       "1               0.0  FARMWORKER FAIR LABOR PRACTICES, CLINICAL LAB ...   \n",
       "2               0.0                             NYS BUDGET, HEALTHCARE   \n",
       "3               0.0  9/11 WORKERS' COMPENSATION BENEFITS, HEALTHY N...   \n",
       "4               0.0             9/11 WORKERS' COMPENSATION BILL&#x0D;    \n",
       "\n",
       "  Lobbyist_Subjects2                                           Person1  \\\n",
       "0                NaN  NYS ASSEMBLY, NYS SENATE, NYS EXECUTIVE CHAMBERS   \n",
       "1                NaN                 ASSEMBLY, SENATE, EXECUTIVE, CITY   \n",
       "2                NaN  NYS ASSEMBLY, NYS SENATE, NYS EXECUTIVE CHAMBERS   \n",
       "3                NaN  NYS ASSEMBLY, NYS SENATE, NYS EXECUTIVE CHAMBERS   \n",
       "4                NaN  NYS ASSEMBLY, NYS SENATE, NYS EXECUTIVE CHAMBERS   \n",
       "\n",
       "  Person2 Procurement_Subjects1  Procurement_Subjects2  \n",
       "0     NaN                   NaN                    NaN  \n",
       "1     NaN                   NaN                    NaN  \n",
       "2     NaN                   NaN                    NaN  \n",
       "3     NaN                   NaN                    NaN  \n",
       "4     NaN                   NaN                    NaN  "
      ]
     },
     "execution_count": 52,
     "metadata": {},
     "output_type": "execute_result"
    }
   ],
   "source": [
    "lobbyist.head()"
   ]
  },
  {
   "cell_type": "code",
   "execution_count": 53,
   "metadata": {
    "collapsed": false
   },
   "outputs": [
    {
     "name": "stdout",
     "output_type": "stream",
     "text": [
      "<class 'pandas.core.frame.DataFrame'>\n",
      "RangeIndex: 215355 entries, 0 to 215354\n",
      "Data columns (total 20 columns):\n",
      "REGISTRATION_YEAR          215355 non-null object\n",
      "LOBBYIST_NAME              215341 non-null object\n",
      "Lobbying_Type              215340 non-null object\n",
      "Govt_Level                 215340 non-null object\n",
      "Lobbyist_Type              215340 non-null object\n",
      "AdditionalLobbyists_LR     200699 non-null object\n",
      "AdditionalLobbyists_LBR    185765 non-null object\n",
      "CLIENT_NAME                215340 non-null object\n",
      "Client_BusinessNature      215340 non-null object\n",
      "BIMONTHLY_YEAR             215340 non-null float64\n",
      "ReportingPeriod            181762 non-null object\n",
      "TOTAL_EXPENSES             215340 non-null float64\n",
      "TOTAL_COMPENSATION         215340 non-null float64\n",
      "TOTAL_REIMBURSED           215340 non-null float64\n",
      "Lobbyist_Subjects1         171593 non-null object\n",
      "Lobbyist_Subjects2         69 non-null object\n",
      "Person1                    170622 non-null object\n",
      "Person2                    203 non-null object\n",
      "Procurement_Subjects1      1634 non-null object\n",
      "Procurement_Subjects2      0 non-null float64\n",
      "dtypes: float64(5), object(15)\n",
      "memory usage: 32.9+ MB\n"
     ]
    }
   ],
   "source": [
    "lobbyist.info()"
   ]
  },
  {
   "cell_type": "code",
   "execution_count": 61,
   "metadata": {
    "collapsed": false
   },
   "outputs": [
    {
     "name": "stdout",
     "output_type": "stream",
     "text": [
      "[nan, 'Health & Mental Hygiene', 'Communications', 'Manufacturing', 'Transportation', 'Public Utilities', 'Banking & Financial Services', 'Marketing & Sales', 'State & Local Government', 'Labor', 'Racing & Wagering', 'Travel & Tourism', 'Education', 'Real Estate & Construction', 'Public, Community Interest', 'Law', 'Trade Associations', 'Insurance', 'Environment & Natural Resources']\n"
     ]
    }
   ],
   "source": [
    "lobbyist.CLIENT_NAME\n",
    "lobbyist.Client_BusinessNature\n",
    "print list(set(lobbyist.Client_BusinessNature))"
   ]
  },
  {
   "cell_type": "code",
   "execution_count": 69,
   "metadata": {
    "collapsed": true
   },
   "outputs": [],
   "source": [
    "%matplotlib inline"
   ]
  },
  {
   "cell_type": "code",
   "execution_count": 75,
   "metadata": {
    "collapsed": false
   },
   "outputs": [
    {
     "data": {
      "text/plain": [
       "Health & Mental Hygiene            37868\n",
       "Real Estate & Construction         26703\n",
       "Public, Community Interest         23661\n",
       "Education                          17678\n",
       "Trade Associations                 15005\n",
       "Marketing & Sales                  12480\n",
       "Manufacturing                       9559\n",
       "Labor                               9424\n",
       "Environment & Natural Resources     9340\n",
       "Banking & Financial Services        8716\n",
       "Communications                      8677\n",
       "Insurance                           8673\n",
       "Transportation                      8341\n",
       "Public Utilities                    4451\n",
       "State & Local Government            4103\n",
       "Racing & Wagering                   3645\n",
       "Law                                 3581\n",
       "Travel & Tourism                    3435\n",
       "Name: Client_BusinessNature, dtype: int64"
      ]
     },
     "execution_count": 75,
     "metadata": {},
     "output_type": "execute_result"
    }
   ],
   "source": [
    "lobbyist.Client_BusinessNature.value_counts()"
   ]
  },
  {
   "cell_type": "code",
   "execution_count": 76,
   "metadata": {
    "collapsed": false
   },
   "outputs": [
    {
     "data": {
      "text/plain": [
       "(array([ 5.,  7.,  1.,  1.,  1.,  1.,  1.,  0.,  0.,  1.]),\n",
       " array([  3435. ,   6878.3,  10321.6,  13764.9,  17208.2,  20651.5,\n",
       "         24094.8,  27538.1,  30981.4,  34424.7,  37868. ]),\n",
       " <a list of 10 Patch objects>)"
      ]
     },
     "execution_count": 76,
     "metadata": {},
     "output_type": "execute_result"
    },
    {
     "data": {
      "image/png": "[encoded data removed]",
      "text/plain": [
       "<matplotlib.figure.Figure at 0x959d518>"
      ]
     },
     "metadata": {},
     "output_type": "display_data"
    }
   ],
   "source": [
    "plt.hist(lobbyist.Client_BusinessNature.value_counts())"
   ]
  },
  {
   "cell_type": "code",
   "execution_count": 77,
   "metadata": {
    "collapsed": false
   },
   "outputs": [
    {
     "data": {
      "text/plain": [
       "<matplotlib.axes._subplots.AxesSubplot at 0x119ad898>"
      ]
     },
     "execution_count": 77,
     "metadata": {},
     "output_type": "execute_result"
    },
    {
     "data": {
      "image/png": "[encoded data removed]",
      "text/plain": [
       "<matplotlib.figure.Figure at 0xed05470>"
      ]
     },
     "metadata": {},
     "output_type": "display_data"
    }
   ],
   "source": [
    "lobbyist.Client_BusinessNature.value_counts().hist()"
   ]
  },
  {
   "cell_type": "code",
   "execution_count": null,
   "metadata": {
    "collapsed": false
   },
   "outputs": [],
   "source": []
  },
  {
   "cell_type": "code",
   "execution_count": null,
   "metadata": {
    "collapsed": true
   },
   "outputs": [],
   "source": []
  },
  {
   "cell_type": "code",
   "execution_count": null,
   "metadata": {
    "collapsed": true
   },
   "outputs": [],
   "source": []
  },
  {
   "cell_type": "code",
   "execution_count": null,
   "metadata": {
    "collapsed": true
   },
   "outputs": [],
   "source": []
  },
  {
   "cell_type": "code",
   "execution_count": 70,
   "metadata": {
    "collapsed": false
   },
   "outputs": [
    {
     "data": {
      "text/plain": [
       "array([[<matplotlib.axes._subplots.AxesSubplot object at 0x00000000097F40F0>,\n",
       "        <matplotlib.axes._subplots.AxesSubplot object at 0x0000000010E5BE48>],\n",
       "       [<matplotlib.axes._subplots.AxesSubplot object at 0x000000002DD0B710>,\n",
       "        <matplotlib.axes._subplots.AxesSubplot object at 0x000000002DD65DD8>],\n",
       "       [<matplotlib.axes._subplots.AxesSubplot object at 0x0000000033E9B780>,\n",
       "        <matplotlib.axes._subplots.AxesSubplot object at 0x0000000033F3F630>]], dtype=object)"
      ]
     },
     "execution_count": 70,
     "metadata": {},
     "output_type": "execute_result"
    },
    {
     "data": {
      "image/png": "[encoded data removed]",
      "text/plain": [
       "<matplotlib.figure.Figure at 0x97f4d68>"
      ]
     },
     "metadata": {},
     "output_type": "display_data"
    }
   ],
   "source": [
    "lobbyist.hist()"
   ]
  },
  {
   "cell_type": "code",
   "execution_count": 68,
   "metadata": {
    "collapsed": true
   },
   "outputs": [],
   "source": [
    "plt.show()"
   ]
  }
 ],
 "metadata": {
  "kernelspec": {
   "display_name": "Python 2",
   "language": "python",
   "name": "python2"
  },
  "language_info": {
   "codemirror_mode": {
    "name": "ipython",
    "version": 2
   },
   "file_extension": ".py",
   "mimetype": "text/x-python",
   "name": "python",
   "nbconvert_exporter": "python",
   "pygments_lexer": "ipython2",
   "version": "2.7.11"
  }
 },
 "nbformat": 4,
 "nbformat_minor": 0
}
